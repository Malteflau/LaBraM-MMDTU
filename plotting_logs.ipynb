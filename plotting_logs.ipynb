{
 "cells": [
  {
   "cell_type": "code",
   "execution_count": null,
   "metadata": {},
   "outputs": [
    {
     "ename": "",
     "evalue": "",
     "output_type": "error",
     "traceback": [
      "\u001b[1;31mRunning cells with 'labram (Python 3.11.11)' requires the ipykernel package.\n",
      "\u001b[1;31mRun the following command to install 'ipykernel' into the Python environment. \n",
      "\u001b[1;31mCommand: 'conda install -n labram ipykernel --update-deps --force-reinstall'"
     ]
    }
   ],
   "source": [
    "import matplotlib.pyplot as plt\n",
    "import json\n",
    "import argparse\n",
    "import os\n",
    "\n",
    "def parse_log_file(file_path):\n",
    "    \"\"\"Parse a log file containing JSON entries, one per line\"\"\"\n",
    "    data = []\n",
    "    with open(file_path, 'r') as f:\n",
    "        for line in f:\n",
    "            line = line.strip()\n",
    "            if line:  # Skip empty lines\n",
    "                try:\n",
    "                    entry = json.loads(line)\n",
    "                    data.append(entry)\n",
    "                except json.JSONDecodeError:\n",
    "                    print(f\"Warning: Could not parse line: {line}\")\n",
    "    return data\n",
    "\n",
    "def plot_metrics(log_files, metrics, output_path=None, title=None, labels=None):\n",
    "    \"\"\"Plot specified metrics from multiple log files\"\"\"\n",
    "    plt.figure(figsize=(12, 8))\n",
    "    \n",
    "    if labels is None:\n",
    "        labels = [os.path.basename(f) for f in log_files]\n",
    "    \n",
    "    for i, file_path in enumerate(log_files):\n",
    "        data = parse_log_file(file_path)\n",
    "        \n",
    "        if not data:\n",
    "            print(f\"Warning: No data found in {file_path}\")\n",
    "            continue\n",
    "        \n",
    "        # Extract epochs\n",
    "        epochs = [entry.get('epoch', i) for i, entry in enumerate(data)]\n",
    "        \n",
    "        # Plot each requested metric\n",
    "        for metric in metrics:\n",
    "            # Try to find the metric with various prefixes\n",
    "            prefixes = ['', 'train_', 'test_', 'val_']\n",
    "            \n",
    "            for prefix in prefixes:\n",
    "                full_metric = f\"{prefix}{metric}\"\n",
    "                if full_metric in data[0]:\n",
    "                    values = [entry.get(full_metric, float('nan')) for entry in data]\n",
    "                    plt.plot(epochs, values, marker='o', label=f\"{labels[i]} - {full_metric}\")\n",
    "                    break\n",
    "    \n",
    "    plt.xlabel('Epoch')\n",
    "    plt.ylabel('Value')\n",
    "    plt.grid(True, linestyle='--', alpha=0.7)\n",
    "    plt.legend(loc='best')\n",
    "    \n",
    "    if title:\n",
    "        plt.title(title)\n",
    "    else:\n",
    "        plt.title(', '.join(metrics))\n",
    "    \n",
    "    plt.tight_layout()\n",
    "    \n",
    "    if output_path:\n",
    "        plt.savefig(output_path)\n",
    "        print(f\"Plot saved to {output_path}\")\n",
    "    else:\n",
    "        plt.show()\n"
   ]
  },
  {
   "cell_type": "code",
   "execution_count": null,
   "metadata": {},
   "outputs": [],
   "source": [
    "### Finetune labram\n",
    "filepath = \"checkpoints/finetune_dtu_labram1/log.txt\"\n",
    "metrics = \"loss\"\n",
    "title = \"Finetune LaBraM\"\n",
    "labels = None\n",
    "\n",
    "log = parse_log_file(filepath)\n",
    "plot_metrics(log,metrics,title,labels)"
   ]
  },
  {
   "cell_type": "code",
   "execution_count": null,
   "metadata": {},
   "outputs": [],
   "source": []
  }
 ],
 "metadata": {
  "kernelspec": {
   "display_name": "labram",
   "language": "python",
   "name": "python3"
  },
  "language_info": {
   "name": "python",
   "version": "3.11.11"
  }
 },
 "nbformat": 4,
 "nbformat_minor": 2
}
